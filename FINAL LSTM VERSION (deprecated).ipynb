{
 "cells": [
  {
   "cell_type": "code",
   "execution_count": 1,
   "id": "2efe5929-4a52-4a60-a56d-44b0048b8664",
   "metadata": {},
   "outputs": [],
   "source": [
    "#IMPORTING NECESSARY PACKAGES\n",
    "import time\n",
    "from datetime import datetime, timedelta\n",
    "import numpy as np\n",
    "import matplotlib.pyplot as plt\n",
    "import pandas as pd\n",
    "import pandas_ta as pa\n",
    "import yfinance as yf\n",
    "import pandas_ta as ta\n",
    "from sklearn.preprocessing import MinMaxScaler\n",
    "import tensorflow as tf\n",
    "import keras\n",
    "from keras import optimizers\n",
    "from keras.callbacks import History\n",
    "from keras.models import Model, Sequential\n",
    "from keras.layers import Dense, Dropout, LSTM, Input, Activation, concatenate, TimeDistributed\n",
    "pd.set_option('display.max_rows', None)\n",
    "pd.set_option('display.max_columns', None)"
   ]
  },
  {
   "cell_type": "code",
   "execution_count": 2,
   "id": "f72fd64e-bc2a-4a15-b6c2-edb3cd1f4aca",
   "metadata": {},
   "outputs": [
    {
     "name": "stdout",
     "output_type": "stream",
     "text": [
      "[*********************100%%**********************]  1 of 1 completed"
     ]
    },
    {
     "name": "stderr",
     "output_type": "stream",
     "text": [
      "\n",
      "1 Failed download:\n",
      "['^GSPC']: Exception('%ticker%: No price data found, symbol may be delisted (1d 2000-01-01 -> 2025-03-24)')\n"
     ]
    },
    {
     "name": "stdout",
     "output_type": "stream",
     "text": [
      "\n"
     ]
    }
   ],
   "source": [
    "#HERE WE SET SETTINGS\n",
    "iterations = 30\n",
    "starting_time = '2000-01-01'\n",
    "inputnumber = 26\n",
    "today = datetime.now()\n",
    "tomorrow = today + timedelta(days=1)\n",
    "tomorrow_str = tomorrow.strftime('%Y-%m-%d')\n",
    "tomorrow_str\n",
    "ending_time = tomorrow_str\n",
    "tomorrow_str\n",
    "data = yf.download(tickers = '^GSPC', start = starting_time, end = ending_time)\n",
    "start_time = time.time()\n",
    "testingdata = []"
   ]
  },
  {
   "cell_type": "code",
   "execution_count": 3,
   "id": "76afc77b-b160-483d-b5d3-794bc32a8f63",
   "metadata": {},
   "outputs": [
    {
     "name": "stdout",
     "output_type": "stream",
     "text": [
      "[*********************100%%**********************]  1 of 1 completed"
     ]
    },
    {
     "name": "stderr",
     "output_type": "stream",
     "text": [
      "\n",
      "1 Failed download:\n",
      "['^VIX']: Exception('%ticker%: No price data found, symbol may be delisted (1d 2000-01-01 -> 2025-03-24)')\n"
     ]
    },
    {
     "name": "stdout",
     "output_type": "stream",
     "text": [
      "\n"
     ]
    },
    {
     "ename": "ValueError",
     "evalue": "If using all scalar values, you must pass an index",
     "output_type": "error",
     "traceback": [
      "\u001b[1;31m---------------------------------------------------------------------------\u001b[0m",
      "\u001b[1;31mValueError\u001b[0m                                Traceback (most recent call last)",
      "Cell \u001b[1;32mIn[3], line 31\u001b[0m\n\u001b[0;32m     29\u001b[0m volatility \u001b[38;5;241m=\u001b[39m volatility\u001b[38;5;241m.\u001b[39mrename(columns\u001b[38;5;241m=\u001b[39m{\u001b[38;5;124m'\u001b[39m\u001b[38;5;124mOpen\u001b[39m\u001b[38;5;124m'\u001b[39m: \u001b[38;5;124m'\u001b[39m\u001b[38;5;124mVOpen\u001b[39m\u001b[38;5;124m'\u001b[39m, \u001b[38;5;124m'\u001b[39m\u001b[38;5;124mAdj Close\u001b[39m\u001b[38;5;124m'\u001b[39m: \u001b[38;5;124m'\u001b[39m\u001b[38;5;124mVAdj Close\u001b[39m\u001b[38;5;124m'\u001b[39m, \u001b[38;5;124m'\u001b[39m\u001b[38;5;124mHigh\u001b[39m\u001b[38;5;124m'\u001b[39m: \u001b[38;5;124m'\u001b[39m\u001b[38;5;124mVHigh\u001b[39m\u001b[38;5;124m'\u001b[39m, \u001b[38;5;124m'\u001b[39m\u001b[38;5;124mLow\u001b[39m\u001b[38;5;124m'\u001b[39m: \u001b[38;5;124m'\u001b[39m\u001b[38;5;124mVLow\u001b[39m\u001b[38;5;124m'\u001b[39m})\n\u001b[0;32m     30\u001b[0m data \u001b[38;5;241m=\u001b[39m pd\u001b[38;5;241m.\u001b[39mconcat([data, volatility], axis\u001b[38;5;241m=\u001b[39m\u001b[38;5;241m1\u001b[39m)\n\u001b[1;32m---> 31\u001b[0m DMP \u001b[38;5;241m=\u001b[39m \u001b[43mpa\u001b[49m\u001b[38;5;241;43m.\u001b[39;49m\u001b[43mdm\u001b[49m\u001b[43m(\u001b[49m\u001b[43mdata\u001b[49m\u001b[43m[\u001b[49m\u001b[38;5;124;43m'\u001b[39;49m\u001b[38;5;124;43mHigh\u001b[39;49m\u001b[38;5;124;43m'\u001b[39;49m\u001b[43m]\u001b[49m\u001b[43m,\u001b[49m\u001b[43m \u001b[49m\u001b[43mdata\u001b[49m\u001b[43m[\u001b[49m\u001b[38;5;124;43m'\u001b[39;49m\u001b[38;5;124;43mLow\u001b[39;49m\u001b[38;5;124;43m'\u001b[39;49m\u001b[43m]\u001b[49m\u001b[43m,\u001b[49m\u001b[43m \u001b[49m\u001b[43mlength\u001b[49m\u001b[38;5;241;43m=\u001b[39;49m\u001b[38;5;241;43m16\u001b[39;49m\u001b[43m)\u001b[49m\n\u001b[0;32m     32\u001b[0m data \u001b[38;5;241m=\u001b[39m data\u001b[38;5;241m.\u001b[39mjoin(DMP)\n\u001b[0;32m     33\u001b[0m macd_df \u001b[38;5;241m=\u001b[39m ta\u001b[38;5;241m.\u001b[39mmacd(data[\u001b[38;5;124m'\u001b[39m\u001b[38;5;124mAdj Close\u001b[39m\u001b[38;5;124m'\u001b[39m])\n",
      "File \u001b[1;32mc:\\program files\\python38\\lib\\site-packages\\pandas_ta\\momentum\\dm.py:51\u001b[0m, in \u001b[0;36mdm\u001b[1;34m(high, low, length, mamode, talib, drift, offset, **kwargs)\u001b[0m\n\u001b[0;32m     45\u001b[0m _params \u001b[38;5;241m=\u001b[39m \u001b[38;5;124mf\u001b[39m\u001b[38;5;124m\"\u001b[39m\u001b[38;5;124m_\u001b[39m\u001b[38;5;132;01m{\u001b[39;00mlength\u001b[38;5;132;01m}\u001b[39;00m\u001b[38;5;124m\"\u001b[39m\n\u001b[0;32m     46\u001b[0m data \u001b[38;5;241m=\u001b[39m {\n\u001b[0;32m     47\u001b[0m     \u001b[38;5;124mf\u001b[39m\u001b[38;5;124m\"\u001b[39m\u001b[38;5;124mDMP\u001b[39m\u001b[38;5;132;01m{\u001b[39;00m_params\u001b[38;5;132;01m}\u001b[39;00m\u001b[38;5;124m\"\u001b[39m: pos,\n\u001b[0;32m     48\u001b[0m     \u001b[38;5;124mf\u001b[39m\u001b[38;5;124m\"\u001b[39m\u001b[38;5;124mDMN\u001b[39m\u001b[38;5;132;01m{\u001b[39;00m_params\u001b[38;5;132;01m}\u001b[39;00m\u001b[38;5;124m\"\u001b[39m: neg,\n\u001b[0;32m     49\u001b[0m }\n\u001b[1;32m---> 51\u001b[0m dmdf \u001b[38;5;241m=\u001b[39m \u001b[43mDataFrame\u001b[49m\u001b[43m(\u001b[49m\u001b[43mdata\u001b[49m\u001b[43m)\u001b[49m\n\u001b[0;32m     52\u001b[0m \u001b[38;5;66;03m# print(dmdf.head(20))\u001b[39;00m\n\u001b[0;32m     53\u001b[0m \u001b[38;5;66;03m# print()\u001b[39;00m\n\u001b[0;32m     54\u001b[0m dmdf\u001b[38;5;241m.\u001b[39mname \u001b[38;5;241m=\u001b[39m \u001b[38;5;124mf\u001b[39m\u001b[38;5;124m\"\u001b[39m\u001b[38;5;124mDM\u001b[39m\u001b[38;5;132;01m{\u001b[39;00m_params\u001b[38;5;132;01m}\u001b[39;00m\u001b[38;5;124m\"\u001b[39m\n",
      "File \u001b[1;32mc:\\program files\\python38\\lib\\site-packages\\pandas\\core\\frame.py:709\u001b[0m, in \u001b[0;36mDataFrame.__init__\u001b[1;34m(self, data, index, columns, dtype, copy)\u001b[0m\n\u001b[0;32m    703\u001b[0m     mgr \u001b[38;5;241m=\u001b[39m \u001b[38;5;28mself\u001b[39m\u001b[38;5;241m.\u001b[39m_init_mgr(\n\u001b[0;32m    704\u001b[0m         data, axes\u001b[38;5;241m=\u001b[39m{\u001b[38;5;124m\"\u001b[39m\u001b[38;5;124mindex\u001b[39m\u001b[38;5;124m\"\u001b[39m: index, \u001b[38;5;124m\"\u001b[39m\u001b[38;5;124mcolumns\u001b[39m\u001b[38;5;124m\"\u001b[39m: columns}, dtype\u001b[38;5;241m=\u001b[39mdtype, copy\u001b[38;5;241m=\u001b[39mcopy\n\u001b[0;32m    705\u001b[0m     )\n\u001b[0;32m    707\u001b[0m \u001b[38;5;28;01melif\u001b[39;00m \u001b[38;5;28misinstance\u001b[39m(data, \u001b[38;5;28mdict\u001b[39m):\n\u001b[0;32m    708\u001b[0m     \u001b[38;5;66;03m# GH#38939 de facto copy defaults to False only in non-dict cases\u001b[39;00m\n\u001b[1;32m--> 709\u001b[0m     mgr \u001b[38;5;241m=\u001b[39m \u001b[43mdict_to_mgr\u001b[49m\u001b[43m(\u001b[49m\u001b[43mdata\u001b[49m\u001b[43m,\u001b[49m\u001b[43m \u001b[49m\u001b[43mindex\u001b[49m\u001b[43m,\u001b[49m\u001b[43m \u001b[49m\u001b[43mcolumns\u001b[49m\u001b[43m,\u001b[49m\u001b[43m \u001b[49m\u001b[43mdtype\u001b[49m\u001b[38;5;241;43m=\u001b[39;49m\u001b[43mdtype\u001b[49m\u001b[43m,\u001b[49m\u001b[43m \u001b[49m\u001b[43mcopy\u001b[49m\u001b[38;5;241;43m=\u001b[39;49m\u001b[43mcopy\u001b[49m\u001b[43m,\u001b[49m\u001b[43m \u001b[49m\u001b[43mtyp\u001b[49m\u001b[38;5;241;43m=\u001b[39;49m\u001b[43mmanager\u001b[49m\u001b[43m)\u001b[49m\n\u001b[0;32m    710\u001b[0m \u001b[38;5;28;01melif\u001b[39;00m \u001b[38;5;28misinstance\u001b[39m(data, ma\u001b[38;5;241m.\u001b[39mMaskedArray):\n\u001b[0;32m    711\u001b[0m     \u001b[38;5;28;01mfrom\u001b[39;00m \u001b[38;5;21;01mnumpy\u001b[39;00m\u001b[38;5;21;01m.\u001b[39;00m\u001b[38;5;21;01mma\u001b[39;00m \u001b[38;5;28;01mimport\u001b[39;00m mrecords\n",
      "File \u001b[1;32mc:\\program files\\python38\\lib\\site-packages\\pandas\\core\\internals\\construction.py:481\u001b[0m, in \u001b[0;36mdict_to_mgr\u001b[1;34m(data, index, columns, dtype, typ, copy)\u001b[0m\n\u001b[0;32m    477\u001b[0m     \u001b[38;5;28;01melse\u001b[39;00m:\n\u001b[0;32m    478\u001b[0m         \u001b[38;5;66;03m# dtype check to exclude e.g. range objects, scalars\u001b[39;00m\n\u001b[0;32m    479\u001b[0m         arrays \u001b[38;5;241m=\u001b[39m [x\u001b[38;5;241m.\u001b[39mcopy() \u001b[38;5;28;01mif\u001b[39;00m \u001b[38;5;28mhasattr\u001b[39m(x, \u001b[38;5;124m\"\u001b[39m\u001b[38;5;124mdtype\u001b[39m\u001b[38;5;124m\"\u001b[39m) \u001b[38;5;28;01melse\u001b[39;00m x \u001b[38;5;28;01mfor\u001b[39;00m x \u001b[38;5;129;01min\u001b[39;00m arrays]\n\u001b[1;32m--> 481\u001b[0m \u001b[38;5;28;01mreturn\u001b[39;00m \u001b[43marrays_to_mgr\u001b[49m\u001b[43m(\u001b[49m\u001b[43marrays\u001b[49m\u001b[43m,\u001b[49m\u001b[43m \u001b[49m\u001b[43mcolumns\u001b[49m\u001b[43m,\u001b[49m\u001b[43m \u001b[49m\u001b[43mindex\u001b[49m\u001b[43m,\u001b[49m\u001b[43m \u001b[49m\u001b[43mdtype\u001b[49m\u001b[38;5;241;43m=\u001b[39;49m\u001b[43mdtype\u001b[49m\u001b[43m,\u001b[49m\u001b[43m \u001b[49m\u001b[43mtyp\u001b[49m\u001b[38;5;241;43m=\u001b[39;49m\u001b[43mtyp\u001b[49m\u001b[43m,\u001b[49m\u001b[43m \u001b[49m\u001b[43mconsolidate\u001b[49m\u001b[38;5;241;43m=\u001b[39;49m\u001b[43mcopy\u001b[49m\u001b[43m)\u001b[49m\n",
      "File \u001b[1;32mc:\\program files\\python38\\lib\\site-packages\\pandas\\core\\internals\\construction.py:115\u001b[0m, in \u001b[0;36marrays_to_mgr\u001b[1;34m(arrays, columns, index, dtype, verify_integrity, typ, consolidate)\u001b[0m\n\u001b[0;32m    112\u001b[0m \u001b[38;5;28;01mif\u001b[39;00m verify_integrity:\n\u001b[0;32m    113\u001b[0m     \u001b[38;5;66;03m# figure out the index, if necessary\u001b[39;00m\n\u001b[0;32m    114\u001b[0m     \u001b[38;5;28;01mif\u001b[39;00m index \u001b[38;5;129;01mis\u001b[39;00m \u001b[38;5;28;01mNone\u001b[39;00m:\n\u001b[1;32m--> 115\u001b[0m         index \u001b[38;5;241m=\u001b[39m \u001b[43m_extract_index\u001b[49m\u001b[43m(\u001b[49m\u001b[43marrays\u001b[49m\u001b[43m)\u001b[49m\n\u001b[0;32m    116\u001b[0m     \u001b[38;5;28;01melse\u001b[39;00m:\n\u001b[0;32m    117\u001b[0m         index \u001b[38;5;241m=\u001b[39m ensure_index(index)\n",
      "File \u001b[1;32mc:\\program files\\python38\\lib\\site-packages\\pandas\\core\\internals\\construction.py:645\u001b[0m, in \u001b[0;36m_extract_index\u001b[1;34m(data)\u001b[0m\n\u001b[0;32m    642\u001b[0m         \u001b[38;5;28;01mraise\u001b[39;00m \u001b[38;5;167;01mValueError\u001b[39;00m(\u001b[38;5;124m\"\u001b[39m\u001b[38;5;124mPer-column arrays must each be 1-dimensional\u001b[39m\u001b[38;5;124m\"\u001b[39m)\n\u001b[0;32m    644\u001b[0m \u001b[38;5;28;01mif\u001b[39;00m \u001b[38;5;129;01mnot\u001b[39;00m indexes \u001b[38;5;129;01mand\u001b[39;00m \u001b[38;5;129;01mnot\u001b[39;00m raw_lengths:\n\u001b[1;32m--> 645\u001b[0m     \u001b[38;5;28;01mraise\u001b[39;00m \u001b[38;5;167;01mValueError\u001b[39;00m(\u001b[38;5;124m\"\u001b[39m\u001b[38;5;124mIf using all scalar values, you must pass an index\u001b[39m\u001b[38;5;124m\"\u001b[39m)\n\u001b[0;32m    647\u001b[0m \u001b[38;5;28;01mif\u001b[39;00m have_series:\n\u001b[0;32m    648\u001b[0m     index \u001b[38;5;241m=\u001b[39m union_indexes(indexes)\n",
      "\u001b[1;31mValueError\u001b[0m: If using all scalar values, you must pass an index"
     ]
    }
   ],
   "source": [
    "#HERE WE FETCH RELEVANT MARKET DATA\n",
    "#tech = yf.download(tickers = 'XLK', start = starting_time, end = ending_time)\n",
    "#tech = tech[['Open', 'Adj Close', 'High', 'Low']]\n",
    "#tech = tech.rename(columns={'Open': 'techOpen', 'Adj Close': 'techAdj Close', 'High': 'techHigh', 'Low': 'techLow'})\n",
    "#display(tech)\n",
    "#data = pd.concat([data, tech], axis=1)\n",
    "#ftse = yf.download(tickers = '^FTSE', start = starting_time, end = ending_time)\n",
    "#ftse = ftse[['Open', 'Adj Close', 'High', 'Low']]\n",
    "#ftse = ftse.dropna()\n",
    "\n",
    "#ftse = ftse.rename(columns={'Open': 'FTSEOpen', 'Adj Close': 'FTSEAdj Close', 'High': 'FTSEHigh', 'Low': 'FTSELow'})\n",
    "#data = pd.concat([data, ftse], axis=1)\n",
    "#gc = yf.download(tickers = 'GCSIX', start = starting_time, end = ending_time)\n",
    "#gc = gc[['Open', 'Adj Close', 'High', 'Low']]\n",
    "#gc = gc.rename(columns={'Open': 'GCOpen', 'Adj Close': 'GCAdj Close', 'High': 'GCHigh', 'Low': 'GCLow'})\n",
    "#data = pd.concat([data, gc], axis=1)\n",
    "#bond = yf.download(tickers = 'FBNDX', start = starting_time, end = ending_time)#bond = bond[['Open', 'Adj Close']]\n",
    "#bond = bond.rename(columns={'Open': 'FBOpen', 'Adj Close': 'FBAdj Close', 'High': 'FBHigh', 'Low': 'FBLow'})\n",
    "#data = pd.concat([data, bond], axis=1)\n",
    "#bond = yf.download(tickers = 'TLT', start = starting_time, end = ending_time)\n",
    "#bond = bond[['Open', 'Adj Close']]\n",
    "#bond = bond.rename(columns={'Open': 'BOpen', 'Adj Close': 'BAdj Close'})\n",
    "#data = pd.concat([data, bond], axis=1)\n",
    "#nk = yf.download(tickers = 'NKD=F', start = starting_time, end = ending_time)\n",
    "#nk = nk[['Open', 'Adj Close']]\n",
    "#nk = nk.rename(columns={'Open': 'NKOpen', 'Adj Close': 'NKClose',})\n",
    "#data = pd.concat([data, nk], axis=1)\n",
    "volatility = yf.download(tickers = '^VIX', start = starting_time, end = ending_time)\n",
    "volatility = volatility[['Open', 'Adj Close', 'High', 'Low']]\n",
    "volatility = volatility.rename(columns={'Open': 'VOpen', 'Adj Close': 'VAdj Close', 'High': 'VHigh', 'Low': 'VLow'})\n",
    "data = pd.concat([data, volatility], axis=1)\n",
    "DMP = pa.dm(data['High'], data['Low'], length=16)\n",
    "data = data.join(DMP)\n",
    "macd_df = ta.macd(data['Adj Close'])\n",
    "data['MACD'] = macd_df['MACDs_12_26_9']\n",
    "#data.ta.pivot(levels=[1])\n",
    "USD = yf.download(tickers = '^NYICDX', start = starting_time, end = ending_time)\n",
    "USD = USD[['Adj Close', 'Open', 'High', 'Low']]\n",
    "USD = USD.rename(columns={'Adj Close': 'USDAdj Close', 'Open': 'USDOpen', 'High': 'USDHigh', 'Low': 'USDLow'})\n",
    "#display(USD)\n",
    "USD = USD.dropna()\n",
    "USD.tail(20)\n",
    "data = pd.concat([data, USD], axis=1)\n",
    "#data['Pivot Point'] = (data['High'] + data['Low'] + data['Close']) / 3\n",
    "#data['R1'] = (2 * data['Pivot Point']) - data['Low']\n",
    "#data['S1'] = (2 * data['Pivot Point']) - data['High']\n",
    "#data['R2'] = data['Pivot Point'] + (data['High'] - data['Low'])\n",
    "#data['S2'] = data['Pivot Point'] - (data['High'] - data['Low'])\n",
    "#data['FTSEATR'] = ta.atr(data['FTSEHigh'], data['FTSELow'], data['FTSEAdj Close'], length=16)\n",
    "#data['FTSERSI'] = ta.rsi(data['FTSEAdj Close'], length=15)\n",
    "#data['FBRSI'] = ta.rsi(data['FBAdj Close'], length=15)\n",
    "#data['FBATR'] = ta.atr(data['FBHigh'], data['FBLow'], data['FBAdj Close'], length=16)\n",
    "#data['techRSI'] = ta.rsi(data['techAdj Close'], length=15)\n",
    "#data['techATR'] = ta.atr(data['techHigh'], data['techLow'], data['techAdj Close'], length=16)\n",
    "#data['GCRSI'] = ta.rsi(data['GCAdj Close'], length=15)\n",
    "#data['GCATR'] = ta.atr(data['GCHigh'], data['GCLow'], data['GCAdj Close'], length=16)\n",
    "#data['BRSI'] = ta.rsi(data['BAdj Close'], length=15)\n",
    "data['USDRSI'] = ta.rsi(data['USDAdj Close'], length=15)\n",
    "data['USDATR'] = ta.atr(data['USDHigh'], data['USDLow'], data['USDAdj Close'], length=16)\n",
    "#data['VRSI'] = ta.rsi(data['VAdj Close'], length=15)\n",
    "#data['VATR'] = ta.atr(data['VHigh'], data['VLow'], data['VAdj Close'], length=16)\n",
    "data['RSI'] = ta.rsi(data['Adj Close'], length=15)\n",
    "data['ATR'] = ta.atr(data['High'], data['Low'], data['Adj Close'], length=16)\n",
    "data['EMAF'] = ta.ema(data['Adj Close'], length=20)\n",
    "data['EMAM'] = ta.ema(data['Adj Close'], length=100)\n",
    "data['EMAS'] = ta.ema(data['Adj Close'], length=150)\n",
    "\n",
    "\n",
    "data['Target'] = data['Adj Close'] - data['Open']\n",
    "data['Target'] = data['Target'].shift(-1)\n",
    "data['TargetClass'] = [1 if data.Target[i]>0 else 0 for i in range(len(data))]\n",
    "data['TargetNextClose'] = data['Adj Close'].shift(-1)\n",
    "data.dropna()\n",
    "\n",
    "\n",
    "#display(data)\n",
    "#data.dropna(inplace=True)\n",
    "data = data.iloc[150:]\n",
    "#data.fillna(0, inplace=True)\n",
    "#data = data.drop(['Volume', 'Close'], axis=1)\n",
    "data_set = data.iloc[:, 0:(inputnumber + 3)]\n",
    "\n",
    "#display(data_set)\n",
    "data_set.tail(20)"
   ]
  },
  {
   "cell_type": "code",
   "execution_count": null,
   "id": "fba77427-a1df-4f19-9363-674a1943a149",
   "metadata": {},
   "outputs": [],
   "source": [
    "#HERE WE ADD RECENT DATA (backcandles = 30 means 30 days of recent data)\n",
    "#pd.set_option('display.max_columns', None)\n",
    "#new_row = {'Open': 0,\n",
    "#        'High': 0,\n",
    "#        'Low': 0,\n",
    "#        'Close': 0,\n",
    "#        'Adj Close': 0,\n",
    "#        'Volume': 0,\n",
    "#        'DMP_16': 0,\n",
    "#        'DMN_16': 0,\n",
    "#        'MACD': 0,\n",
    "#        'ATR': 0,\n",
    "#        'EMAF': 0,\n",
    "#        'EMAM': 0,\n",
    "#        'EMAS': 0}\n",
    "\n",
    "#data_set = pd.concat([data_set, pd.DataFrame([new_row])], ignore_index=True)\n",
    "#display(data_set)\n",
    "sc = MinMaxScaler(feature_range=(0,1))\n",
    "data_set_scaled = sc.fit_transform(data_set)\n",
    "rows = data_set_scaled[:10].copy()\n",
    "\n",
    "#print(rows)\n",
    "X = []\n",
    "backcandles = 30\n",
    "for j in range(inputnumber):\n",
    "    X.append([])\n",
    "    for i in range(backcandles, data_set_scaled.shape[0]):\n",
    "        X[j].append(data_set_scaled[i-backcandles:i, j])\n",
    "X=np.moveaxis(X, [0], [2])\n",
    "#display(X[-15:])\n",
    "X, yi =np.array(X), np.array(data_set_scaled[backcandles:, -1])\n",
    "\n",
    "#display(X[-15:])\n",
    "\n",
    "\n",
    "#display(yi[-15:])\n",
    "\n",
    "\n",
    "y = np.reshape(yi, (len(yi), 1))\n",
    "\n",
    "\n",
    "#display(y[-15:])\n",
    "\n",
    "# Calculate splitlimit\n",
    "splitlimit = int(len(X) * 0.8)\n",
    "#print(splitlimit)\n",
    "X_train, X_test = X[:splitlimit], X[splitlimit:]\n",
    "y_train, y_test = y[:splitlimit], y[splitlimit:]\n",
    "#print(X_train.shape)\n",
    "#print(X_test.shape)\n",
    "#print(y_train.shape)\n",
    "#print(y_test.shape)\n",
    "#print(y_train)\n",
    "np.random.seed(10)\n",
    "\n",
    "#HERE WE TRAIN AND RUN THE LSTM\n",
    "for i in range (0, iterations):\n",
    "\n",
    "\n",
    "    lstm_input = Input(shape=(backcandles, inputnumber), name='lstm_input')\n",
    "    inputs = LSTM(150, name='first_layer')(lstm_input)\n",
    "    inputs = Dense(1, name='dense_layer')(inputs)\n",
    "    output = Activation('linear', name='output')(inputs)\n",
    "    model = Model(inputs=lstm_input, outputs=output)\n",
    "    adam = optimizers.Adam()\n",
    "    model.compile(optimizer=adam, loss='mse')\n",
    "    model.fit(x=X_train, y=y_train, batch_size=15, epochs=30, shuffle=True, validation_split = 0.1)\n",
    "\n",
    "#y_test = data_set['Adj Close'][splitlimit:].tolist()\n",
    "#y_test = y_test[backcandles:]\n",
    "#y_pred = model.predict(X_test)\n",
    "#y_test = [[value] for value in y_test]\n",
    "#y_test = sc.fit_transform(y_test)\n",
    "#y_test = [value[0] for value in y_test]\n",
    "\n",
    "\n",
    "\n",
    "\n",
    "    y_pred = model.predict(X_test)\n",
    "    display(len(y_test))\n",
    "    display(len(y_pred))\n",
    "\n",
    "\n",
    "    for i in range(10):\n",
    "        print(y_pred[i], y_test[i])\n",
    "    plt.figure(figsize=(16,8))\n",
    "    plt.plot(y_test, color = 'black', label = 'Test')\n",
    "    plt.plot(y_pred, color = 'green', label = 'pred')\n",
    "    plt.legend()\n",
    "    plt.show()\n",
    "    #display(y_test[-100:])\n",
    "    y_test = np.array(y_test).flatten()\n",
    "    y_pred = np.array(y_pred).flatten()\n",
    "    df = pd.DataFrame({'test': y_test, 'pred': y_pred})\n",
    "    #display(df)\n",
    "    df['testchange'] = (df['test'] > df['test'].shift()).astype(int)\n",
    "#df['testchange'] = df['test']\n",
    "    df['predchange'] = (df['pred'] > df['pred'].shift()).astype(int)\n",
    "#df['predchange'] = (df['pred'] > 0.5).astype(int)\n",
    "    df['results'] = (df['testchange'] == df['predchange']).astype(int)\n",
    "#df['results'] = (df['testchange'] == df['pred']).astype(int)\n",
    "    resultslist = df['results'].tolist()\n",
    "    #display(df)\n",
    "    count = resultslist.count(1)\n",
    "    display(count/len(resultslist))\n",
    "    testingdata.append(count/len(resultslist))\n",
    "    pd.set_option('display.max_rows', 200)\n",
    "    last_10_rows = df.tail(100)\n",
    "#display(last_10_rows)"
   ]
  },
  {
   "cell_type": "code",
   "execution_count": null,
   "id": "c688bc67-082b-4cbf-9e3c-e2a202d82d7d",
   "metadata": {
    "scrolled": true
   },
   "outputs": [],
   "source": [
    "#HERE ARE THE RESULTS\n",
    "count_ones = df['predchange'].value_counts().get(1, 0)\n",
    "count_zeros = df['predchange'].value_counts().get(0, 0)\n",
    "print(\"Number of 1s:\", count_ones)\n",
    "print(\"Number of 0s:\", count_zeros)\n",
    "#1s indicate next day positive open - close, while 0s indicate negative open - close"
   ]
  },
  {
   "cell_type": "code",
   "execution_count": null,
   "id": "42dcd345-fc01-4536-9c3e-36a36ca4c9a2",
   "metadata": {},
   "outputs": [],
   "source": [
    "display(testingdata)"
   ]
  },
  {
   "cell_type": "code",
   "execution_count": null,
   "id": "5f2091e6-a35a-4f3b-9a57-0a3e1d973225",
   "metadata": {},
   "outputs": [],
   "source": [
    "display(np.round(np.mean(testingdata), decimals=4))\n",
    "display(np.round(np.std(testingdata), decimals=6))"
   ]
  },
  {
   "cell_type": "code",
   "execution_count": null,
   "id": "92530a79-ccb1-4c52-b55c-f6bf11029c68",
   "metadata": {},
   "outputs": [],
   "source": [
    "end_time = time.time()\n",
    "elapsed_time = end_time - start_time\n",
    "print(np.round((elapsed_time / 60), decimals=2))"
   ]
  },
  {
   "cell_type": "code",
   "execution_count": null,
   "id": "162a34bf-65d5-4a06-aa5d-742b74e294d5",
   "metadata": {},
   "outputs": [],
   "source": []
  }
 ],
 "metadata": {
  "kernelspec": {
   "display_name": "Python 3 (ipykernel)",
   "language": "python",
   "name": "python3"
  },
  "language_info": {
   "codemirror_mode": {
    "name": "ipython",
    "version": 3
   },
   "file_extension": ".py",
   "mimetype": "text/x-python",
   "name": "python",
   "nbconvert_exporter": "python",
   "pygments_lexer": "ipython3",
   "version": "3.8.2"
  }
 },
 "nbformat": 4,
 "nbformat_minor": 5
}
